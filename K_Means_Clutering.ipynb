{
  "nbformat": 4,
  "nbformat_minor": 0,
  "metadata": {
    "colab": {
      "name": "K - Means Clutering.ipynb",
      "provenance": [],
      "authorship_tag": "ABX9TyO0UWpUcszi82aphAERV3Wx",
      "include_colab_link": true
    },
    "kernelspec": {
      "name": "python3",
      "display_name": "Python 3"
    },
    "language_info": {
      "name": "python"
    }
  },
  "cells": [
    {
      "cell_type": "markdown",
      "metadata": {
        "id": "view-in-github",
        "colab_type": "text"
      },
      "source": [
        "<a href=\"https://colab.research.google.com/github/yasirarism/K-Mean-Clustering-Dengan-Python/blob/main/K_Means_Clutering.ipynb\" target=\"_parent\"><img src=\"https://colab.research.google.com/assets/colab-badge.svg\" alt=\"Open In Colab\"/></a>"
      ]
    },
    {
      "cell_type": "markdown",
      "metadata": {
        "id": "D_XPjUuMpPW-"
      },
      "source": [
        "Teknik Sipil = 1  \n",
        "Sistem Informasi = 2  \n",
        "Teknik Industri = 3  \n",
        "  \n",
        "Belum ada ijazah = 1  \n",
        "SMA = 2  \n",
        "SMK = 3  \n",
        "Selain SMK dan SMA = 4  \n",
        "  \n",
        "Nilai rata rata <= 5 = 1  \n",
        "Nilai rata rata > 5 = 2  \n",
        "Nilai rata rata >= 7 = 3  "
      ]
    },
    {
      "cell_type": "code",
      "metadata": {
        "colab": {
          "base_uri": "https://localhost:8080/",
          "height": 206
        },
        "id": "CsMxegB2KTPj",
        "outputId": "4b1e552a-bb10-4154-d8f1-cbdce9c413ff"
      },
      "source": [
        "import pandas as pd\n",
        "import numpy as np\n",
        "import matplotlib.pyplot as plt \n",
        "from sklearn.cluster import KMeans\n",
        "from sklearn.preprocessing import MinMaxScaler\n",
        "\n",
        "data = pd.read_excel(\"https://github.com/yasirarism/K-Mean-Clustering-Dengan-Python/raw/main/Sample%20Data%20Mahasiswa%20Baru%20v2.xlsx\")\n",
        "data.head()"
      ],
      "execution_count": 38,
      "outputs": [
        {
          "output_type": "execute_result",
          "data": {
            "text/html": [
              "<div>\n",
              "<style scoped>\n",
              "    .dataframe tbody tr th:only-of-type {\n",
              "        vertical-align: middle;\n",
              "    }\n",
              "\n",
              "    .dataframe tbody tr th {\n",
              "        vertical-align: top;\n",
              "    }\n",
              "\n",
              "    .dataframe thead th {\n",
              "        text-align: right;\n",
              "    }\n",
              "</style>\n",
              "<table border=\"1\" class=\"dataframe\">\n",
              "  <thead>\n",
              "    <tr style=\"text-align: right;\">\n",
              "      <th></th>\n",
              "      <th>NAMA</th>\n",
              "      <th>FAKULTAS</th>\n",
              "      <th>PRODI</th>\n",
              "      <th>ASAL_SEKOLAH</th>\n",
              "      <th>Nilai_UAN</th>\n",
              "    </tr>\n",
              "  </thead>\n",
              "  <tbody>\n",
              "    <tr>\n",
              "      <th>0</th>\n",
              "      <td>ADE SAPUTRA</td>\n",
              "      <td>TIK</td>\n",
              "      <td>1</td>\n",
              "      <td>4</td>\n",
              "      <td>1</td>\n",
              "    </tr>\n",
              "    <tr>\n",
              "      <th>1</th>\n",
              "      <td>KAMARUDIN</td>\n",
              "      <td>TIK</td>\n",
              "      <td>1</td>\n",
              "      <td>2</td>\n",
              "      <td>1</td>\n",
              "    </tr>\n",
              "    <tr>\n",
              "      <th>2</th>\n",
              "      <td>REZA TRYADITYA</td>\n",
              "      <td>TIK</td>\n",
              "      <td>1</td>\n",
              "      <td>2</td>\n",
              "      <td>1</td>\n",
              "    </tr>\n",
              "    <tr>\n",
              "      <th>3</th>\n",
              "      <td>M.YOGA ALI AKBAR</td>\n",
              "      <td>TIK</td>\n",
              "      <td>1</td>\n",
              "      <td>2</td>\n",
              "      <td>1</td>\n",
              "    </tr>\n",
              "    <tr>\n",
              "      <th>4</th>\n",
              "      <td>ANDI SEPTIAWAN</td>\n",
              "      <td>TIK</td>\n",
              "      <td>1</td>\n",
              "      <td>2</td>\n",
              "      <td>1</td>\n",
              "    </tr>\n",
              "  </tbody>\n",
              "</table>\n",
              "</div>"
            ],
            "text/plain": [
              "               NAMA FAKULTAS  PRODI  ASAL_SEKOLAH  Nilai_UAN\n",
              "0       ADE SAPUTRA      TIK      1             4          1\n",
              "1         KAMARUDIN      TIK      1             2          1\n",
              "2    REZA TRYADITYA      TIK      1             2          1\n",
              "3  M.YOGA ALI AKBAR      TIK      1             2          1\n",
              "4    ANDI SEPTIAWAN      TIK      1             2          1"
            ]
          },
          "metadata": {},
          "execution_count": 38
        }
      ]
    },
    {
      "cell_type": "code",
      "metadata": {
        "colab": {
          "base_uri": "https://localhost:8080/"
        },
        "id": "CGUpAxaAc2iQ",
        "outputId": "ddc0b2a5-d987-4878-f28f-fa101a9ec115"
      },
      "source": [
        "data.info()"
      ],
      "execution_count": 39,
      "outputs": [
        {
          "output_type": "stream",
          "name": "stdout",
          "text": [
            "<class 'pandas.core.frame.DataFrame'>\n",
            "RangeIndex: 27 entries, 0 to 26\n",
            "Data columns (total 5 columns):\n",
            " #   Column        Non-Null Count  Dtype \n",
            "---  ------        --------------  ----- \n",
            " 0   NAMA          27 non-null     object\n",
            " 1   FAKULTAS      27 non-null     object\n",
            " 2   PRODI         27 non-null     int64 \n",
            " 3   ASAL_SEKOLAH  27 non-null     int64 \n",
            " 4   Nilai_UAN     27 non-null     int64 \n",
            "dtypes: int64(3), object(2)\n",
            "memory usage: 1.2+ KB\n"
          ]
        }
      ]
    },
    {
      "cell_type": "code",
      "metadata": {
        "colab": {
          "base_uri": "https://localhost:8080/",
          "height": 896
        },
        "id": "z4QZwnFEdAnh",
        "outputId": "d6492d9e-c0c2-404a-8751-d503331da147"
      },
      "source": [
        "data = data.drop([\"NAMA\",\"FAKULTAS\"], axis=1)\n",
        "data"
      ],
      "execution_count": 40,
      "outputs": [
        {
          "output_type": "execute_result",
          "data": {
            "text/html": [
              "<div>\n",
              "<style scoped>\n",
              "    .dataframe tbody tr th:only-of-type {\n",
              "        vertical-align: middle;\n",
              "    }\n",
              "\n",
              "    .dataframe tbody tr th {\n",
              "        vertical-align: top;\n",
              "    }\n",
              "\n",
              "    .dataframe thead th {\n",
              "        text-align: right;\n",
              "    }\n",
              "</style>\n",
              "<table border=\"1\" class=\"dataframe\">\n",
              "  <thead>\n",
              "    <tr style=\"text-align: right;\">\n",
              "      <th></th>\n",
              "      <th>PRODI</th>\n",
              "      <th>ASAL_SEKOLAH</th>\n",
              "      <th>Nilai_UAN</th>\n",
              "    </tr>\n",
              "  </thead>\n",
              "  <tbody>\n",
              "    <tr>\n",
              "      <th>0</th>\n",
              "      <td>1</td>\n",
              "      <td>4</td>\n",
              "      <td>1</td>\n",
              "    </tr>\n",
              "    <tr>\n",
              "      <th>1</th>\n",
              "      <td>1</td>\n",
              "      <td>2</td>\n",
              "      <td>1</td>\n",
              "    </tr>\n",
              "    <tr>\n",
              "      <th>2</th>\n",
              "      <td>1</td>\n",
              "      <td>2</td>\n",
              "      <td>1</td>\n",
              "    </tr>\n",
              "    <tr>\n",
              "      <th>3</th>\n",
              "      <td>1</td>\n",
              "      <td>2</td>\n",
              "      <td>1</td>\n",
              "    </tr>\n",
              "    <tr>\n",
              "      <th>4</th>\n",
              "      <td>1</td>\n",
              "      <td>2</td>\n",
              "      <td>1</td>\n",
              "    </tr>\n",
              "    <tr>\n",
              "      <th>5</th>\n",
              "      <td>1</td>\n",
              "      <td>1</td>\n",
              "      <td>1</td>\n",
              "    </tr>\n",
              "    <tr>\n",
              "      <th>6</th>\n",
              "      <td>1</td>\n",
              "      <td>2</td>\n",
              "      <td>1</td>\n",
              "    </tr>\n",
              "    <tr>\n",
              "      <th>7</th>\n",
              "      <td>2</td>\n",
              "      <td>2</td>\n",
              "      <td>1</td>\n",
              "    </tr>\n",
              "    <tr>\n",
              "      <th>8</th>\n",
              "      <td>2</td>\n",
              "      <td>2</td>\n",
              "      <td>1</td>\n",
              "    </tr>\n",
              "    <tr>\n",
              "      <th>9</th>\n",
              "      <td>2</td>\n",
              "      <td>1</td>\n",
              "      <td>1</td>\n",
              "    </tr>\n",
              "    <tr>\n",
              "      <th>10</th>\n",
              "      <td>2</td>\n",
              "      <td>3</td>\n",
              "      <td>1</td>\n",
              "    </tr>\n",
              "    <tr>\n",
              "      <th>11</th>\n",
              "      <td>2</td>\n",
              "      <td>2</td>\n",
              "      <td>1</td>\n",
              "    </tr>\n",
              "    <tr>\n",
              "      <th>12</th>\n",
              "      <td>2</td>\n",
              "      <td>1</td>\n",
              "      <td>2</td>\n",
              "    </tr>\n",
              "    <tr>\n",
              "      <th>13</th>\n",
              "      <td>2</td>\n",
              "      <td>4</td>\n",
              "      <td>1</td>\n",
              "    </tr>\n",
              "    <tr>\n",
              "      <th>14</th>\n",
              "      <td>2</td>\n",
              "      <td>2</td>\n",
              "      <td>1</td>\n",
              "    </tr>\n",
              "    <tr>\n",
              "      <th>15</th>\n",
              "      <td>2</td>\n",
              "      <td>3</td>\n",
              "      <td>2</td>\n",
              "    </tr>\n",
              "    <tr>\n",
              "      <th>16</th>\n",
              "      <td>2</td>\n",
              "      <td>3</td>\n",
              "      <td>1</td>\n",
              "    </tr>\n",
              "    <tr>\n",
              "      <th>17</th>\n",
              "      <td>2</td>\n",
              "      <td>2</td>\n",
              "      <td>1</td>\n",
              "    </tr>\n",
              "    <tr>\n",
              "      <th>18</th>\n",
              "      <td>2</td>\n",
              "      <td>2</td>\n",
              "      <td>1</td>\n",
              "    </tr>\n",
              "    <tr>\n",
              "      <th>19</th>\n",
              "      <td>2</td>\n",
              "      <td>2</td>\n",
              "      <td>1</td>\n",
              "    </tr>\n",
              "    <tr>\n",
              "      <th>20</th>\n",
              "      <td>2</td>\n",
              "      <td>2</td>\n",
              "      <td>1</td>\n",
              "    </tr>\n",
              "    <tr>\n",
              "      <th>21</th>\n",
              "      <td>3</td>\n",
              "      <td>3</td>\n",
              "      <td>1</td>\n",
              "    </tr>\n",
              "    <tr>\n",
              "      <th>22</th>\n",
              "      <td>3</td>\n",
              "      <td>2</td>\n",
              "      <td>1</td>\n",
              "    </tr>\n",
              "    <tr>\n",
              "      <th>23</th>\n",
              "      <td>3</td>\n",
              "      <td>4</td>\n",
              "      <td>2</td>\n",
              "    </tr>\n",
              "    <tr>\n",
              "      <th>24</th>\n",
              "      <td>3</td>\n",
              "      <td>2</td>\n",
              "      <td>1</td>\n",
              "    </tr>\n",
              "    <tr>\n",
              "      <th>25</th>\n",
              "      <td>3</td>\n",
              "      <td>3</td>\n",
              "      <td>2</td>\n",
              "    </tr>\n",
              "    <tr>\n",
              "      <th>26</th>\n",
              "      <td>3</td>\n",
              "      <td>4</td>\n",
              "      <td>1</td>\n",
              "    </tr>\n",
              "  </tbody>\n",
              "</table>\n",
              "</div>"
            ],
            "text/plain": [
              "    PRODI  ASAL_SEKOLAH  Nilai_UAN\n",
              "0       1             4          1\n",
              "1       1             2          1\n",
              "2       1             2          1\n",
              "3       1             2          1\n",
              "4       1             2          1\n",
              "5       1             1          1\n",
              "6       1             2          1\n",
              "7       2             2          1\n",
              "8       2             2          1\n",
              "9       2             1          1\n",
              "10      2             3          1\n",
              "11      2             2          1\n",
              "12      2             1          2\n",
              "13      2             4          1\n",
              "14      2             2          1\n",
              "15      2             3          2\n",
              "16      2             3          1\n",
              "17      2             2          1\n",
              "18      2             2          1\n",
              "19      2             2          1\n",
              "20      2             2          1\n",
              "21      3             3          1\n",
              "22      3             2          1\n",
              "23      3             4          2\n",
              "24      3             2          1\n",
              "25      3             3          2\n",
              "26      3             4          1"
            ]
          },
          "metadata": {},
          "execution_count": 40
        }
      ]
    },
    {
      "cell_type": "code",
      "metadata": {
        "colab": {
          "base_uri": "https://localhost:8080/",
          "height": 265
        },
        "id": "hVR9WGE7dwFR",
        "outputId": "ffcbccca-7c63-4f0c-99a1-fb15e00d7069"
      },
      "source": [
        "plt.scatter(data.PRODI , data.ASAL_SEKOLAH, data.Nilai_UAN, c = \"c\", marker = \"o\", alpha = 1)\n",
        "plt.show()"
      ],
      "execution_count": 54,
      "outputs": [
        {
          "output_type": "display_data",
          "data": {
            "image/png": "[encoded data removed]",
            "text/plain": [
              "<Figure size 432x288 with 1 Axes>"
            ]
          },
          "metadata": {
            "needs_background": "light"
          }
        }
      ]
    },
    {
      "cell_type": "code",
      "metadata": {
        "colab": {
          "base_uri": "https://localhost:8080/",
          "height": 206
        },
        "id": "0sg0cAkdyFXp",
        "outputId": "4d5e0546-e5ba-4318-a2da-97d24cabf1d9"
      },
      "source": [
        "data_x = data.iloc[:, 0:2]\n",
        "data_x.head()"
      ],
      "execution_count": 55,
      "outputs": [
        {
          "output_type": "execute_result",
          "data": {
            "text/html": [
              "<div>\n",
              "<style scoped>\n",
              "    .dataframe tbody tr th:only-of-type {\n",
              "        vertical-align: middle;\n",
              "    }\n",
              "\n",
              "    .dataframe tbody tr th {\n",
              "        vertical-align: top;\n",
              "    }\n",
              "\n",
              "    .dataframe thead th {\n",
              "        text-align: right;\n",
              "    }\n",
              "</style>\n",
              "<table border=\"1\" class=\"dataframe\">\n",
              "  <thead>\n",
              "    <tr style=\"text-align: right;\">\n",
              "      <th></th>\n",
              "      <th>PRODI</th>\n",
              "      <th>ASAL_SEKOLAH</th>\n",
              "    </tr>\n",
              "  </thead>\n",
              "  <tbody>\n",
              "    <tr>\n",
              "      <th>0</th>\n",
              "      <td>1</td>\n",
              "      <td>4</td>\n",
              "    </tr>\n",
              "    <tr>\n",
              "      <th>1</th>\n",
              "      <td>1</td>\n",
              "      <td>2</td>\n",
              "    </tr>\n",
              "    <tr>\n",
              "      <th>2</th>\n",
              "      <td>1</td>\n",
              "      <td>2</td>\n",
              "    </tr>\n",
              "    <tr>\n",
              "      <th>3</th>\n",
              "      <td>1</td>\n",
              "      <td>2</td>\n",
              "    </tr>\n",
              "    <tr>\n",
              "      <th>4</th>\n",
              "      <td>1</td>\n",
              "      <td>2</td>\n",
              "    </tr>\n",
              "  </tbody>\n",
              "</table>\n",
              "</div>"
            ],
            "text/plain": [
              "   PRODI  ASAL_SEKOLAH\n",
              "0      1             4\n",
              "1      1             2\n",
              "2      1             2\n",
              "3      1             2\n",
              "4      1             2"
            ]
          },
          "metadata": {},
          "execution_count": 55
        }
      ]
    },
    {
      "cell_type": "code",
      "metadata": {
        "colab": {
          "base_uri": "https://localhost:8080/"
        },
        "id": "b2KbUNkXyTG4",
        "outputId": "2c7d168e-c838-4379-bd5c-0e4471dc3e22"
      },
      "source": [
        "x_array = np.array(data_x)\n",
        "print(x_array)"
      ],
      "execution_count": 56,
      "outputs": [
        {
          "output_type": "stream",
          "name": "stdout",
          "text": [
            "[[1 4]\n",
            " [1 2]\n",
            " [1 2]\n",
            " [1 2]\n",
            " [1 2]\n",
            " [1 1]\n",
            " [1 2]\n",
            " [2 2]\n",
            " [2 2]\n",
            " [2 1]\n",
            " [2 3]\n",
            " [2 2]\n",
            " [2 1]\n",
            " [2 4]\n",
            " [2 2]\n",
            " [2 3]\n",
            " [2 3]\n",
            " [2 2]\n",
            " [2 2]\n",
            " [2 2]\n",
            " [2 2]\n",
            " [3 3]\n",
            " [3 2]\n",
            " [3 4]\n",
            " [3 2]\n",
            " [3 3]\n",
            " [3 4]]\n"
          ]
        }
      ]
    },
    {
      "cell_type": "code",
      "metadata": {
        "colab": {
          "base_uri": "https://localhost:8080/"
        },
        "id": "sSZuVe9uyadX",
        "outputId": "5254f90b-9d64-4ca4-95db-c195c6e76a8b"
      },
      "source": [
        "scaler = MinMaxScaler()\n",
        "x_scaled = scaler.fit_transform(x_array)\n",
        "x_scaled"
      ],
      "execution_count": 57,
      "outputs": [
        {
          "output_type": "execute_result",
          "data": {
            "text/plain": [
              "array([[0.        , 1.        ],\n",
              "       [0.        , 0.33333333],\n",
              "       [0.        , 0.33333333],\n",
              "       [0.        , 0.33333333],\n",
              "       [0.        , 0.33333333],\n",
              "       [0.        , 0.        ],\n",
              "       [0.        , 0.33333333],\n",
              "       [0.5       , 0.33333333],\n",
              "       [0.5       , 0.33333333],\n",
              "       [0.5       , 0.        ],\n",
              "       [0.5       , 0.66666667],\n",
              "       [0.5       , 0.33333333],\n",
              "       [0.5       , 0.        ],\n",
              "       [0.5       , 1.        ],\n",
              "       [0.5       , 0.33333333],\n",
              "       [0.5       , 0.66666667],\n",
              "       [0.5       , 0.66666667],\n",
              "       [0.5       , 0.33333333],\n",
              "       [0.5       , 0.33333333],\n",
              "       [0.5       , 0.33333333],\n",
              "       [0.5       , 0.33333333],\n",
              "       [1.        , 0.66666667],\n",
              "       [1.        , 0.33333333],\n",
              "       [1.        , 1.        ],\n",
              "       [1.        , 0.33333333],\n",
              "       [1.        , 0.66666667],\n",
              "       [1.        , 1.        ]])"
            ]
          },
          "metadata": {},
          "execution_count": 57
        }
      ]
    },
    {
      "cell_type": "code",
      "metadata": {
        "colab": {
          "base_uri": "https://localhost:8080/"
        },
        "id": "UqYoJjASyhdq",
        "outputId": "d76fdc83-425a-42ed-87d4-d2331b31c8a0"
      },
      "source": [
        "kmeans = KMeans(n_clusters = 5, random_state=123)\n",
        "kmeans.fit(x_scaled)\n",
        "print(kmeans.cluster_centers_)"
      ],
      "execution_count": 59,
      "outputs": [
        {
          "output_type": "stream",
          "name": "stdout",
          "text": [
            "[[0.         0.27777778]\n",
            " [0.5        0.26666667]\n",
            " [1.         0.83333333]\n",
            " [0.4        0.8       ]\n",
            " [1.         0.33333333]]\n"
          ]
        }
      ]
    },
    {
      "cell_type": "code",
      "metadata": {
        "colab": {
          "base_uri": "https://localhost:8080/",
          "height": 281
        },
        "id": "DkpIZfvzyvNZ",
        "outputId": "27ad9547-c8ec-427a-cedb-d295a3a450b2"
      },
      "source": [
        "data[\"kluster\"] = kmeans.labels_\n",
        "output = plt.scatter(x_scaled[:,0], x_scaled[:,1], s = 100, c = data.kluster, marker = \"o\", alpha = 1, )\n",
        "centers = kmeans.cluster_centers_\n",
        "plt.scatter(centers[:,0], centers[:,1], c='red', s=200, alpha=1 , marker=\"o\");\n",
        "plt.title(\"Hasil Klustering K-Means\")\n",
        "plt.colorbar(output)\n",
        "plt.show()"
      ],
      "execution_count": 68,
      "outputs": [
        {
          "output_type": "display_data",
          "data": {
            "image/png": "[encoded data removed]",
            "text/plain": [
              "<Figure size 432x288 with 2 Axes>"
            ]
          },
          "metadata": {
            "needs_background": "light"
          }
        }
      ]
    }
  ]
}