{
  "nbformat": 4,
  "nbformat_minor": 0,
  "metadata": {
    "colab": {
      "name": "K - Means Clutering.ipynb",
      "provenance": [],
      "authorship_tag": "ABX9TyNX19uyn86eeRZFxS6T+Qj/",
      "include_colab_link": true
    },
    "kernelspec": {
      "name": "python3",
      "display_name": "Python 3"
    },
    "language_info": {
      "name": "python"
    }
  },
  "cells": [
    {
      "cell_type": "markdown",
      "metadata": {
        "id": "view-in-github",
        "colab_type": "text"
      },
      "source": [
        "<a href=\"https://colab.research.google.com/github/yasirarism/K-Mean-Clustering-Dengan-Python/blob/main/K_Means_Clutering.ipynb\" target=\"_parent\"><img src=\"https://colab.research.google.com/assets/colab-badge.svg\" alt=\"Open In Colab\"/></a>"
      ]
    },
    {
      "cell_type": "markdown",
      "metadata": {
        "id": "D_XPjUuMpPW-"
      },
      "source": [
        "Teknik Sipil = 1  \n",
        "Sistem Informasi = 2  \n",
        "Teknik Industri = 3  \n",
        "  \n",
        "Belum ada ijazah = 1  \n",
        "SMA = 2  \n",
        "SMK = 3  \n",
        "Selain SMK dan SMA = 4  \n",
        "  \n",
        "Nilai rata rata <= 5 = 1  \n",
        "Nilai rata rata > 5 = 2  \n",
        "Nilai rata rata >= 7 = 3  "
      ]
    },
    {
      "cell_type": "code",
      "metadata": {
        "colab": {
          "base_uri": "https://localhost:8080/",
          "height": 206
        },
        "id": "CsMxegB2KTPj",
        "outputId": "d362c423-1128-4326-d138-63e16e563b63"
      },
      "source": [
        "# Input Library\n",
        "import pandas as pd\n",
        "import numpy as np\n",
        "import matplotlib.pyplot as plt \n",
        "from sklearn.cluster import KMeans\n",
        "from sklearn.preprocessing import MinMaxScaler\n",
        "\n",
        "# Masukkan data\n",
        "data = pd.read_excel(\"https://github.com/yasirarism/K-Mean-Clustering-Dengan-Python/raw/main/Sample%20Data%20Mahasiswa%20Baru%20v2.xlsx\")\n",
        "data.head()"
      ],
      "execution_count": 17,
      "outputs": [
        {
          "output_type": "execute_result",
          "data": {
            "text/html": [
              "<div>\n",
              "<style scoped>\n",
              "    .dataframe tbody tr th:only-of-type {\n",
              "        vertical-align: middle;\n",
              "    }\n",
              "\n",
              "    .dataframe tbody tr th {\n",
              "        vertical-align: top;\n",
              "    }\n",
              "\n",
              "    .dataframe thead th {\n",
              "        text-align: right;\n",
              "    }\n",
              "</style>\n",
              "<table border=\"1\" class=\"dataframe\">\n",
              "  <thead>\n",
              "    <tr style=\"text-align: right;\">\n",
              "      <th></th>\n",
              "      <th>NAMA</th>\n",
              "      <th>FAKULTAS</th>\n",
              "      <th>PRODI</th>\n",
              "      <th>ASAL_SEKOLAH</th>\n",
              "      <th>Nilai_UAN</th>\n",
              "    </tr>\n",
              "  </thead>\n",
              "  <tbody>\n",
              "    <tr>\n",
              "      <th>0</th>\n",
              "      <td>ADE SAPUTRA</td>\n",
              "      <td>TIK</td>\n",
              "      <td>1</td>\n",
              "      <td>4</td>\n",
              "      <td>1</td>\n",
              "    </tr>\n",
              "    <tr>\n",
              "      <th>1</th>\n",
              "      <td>KAMARUDIN</td>\n",
              "      <td>TIK</td>\n",
              "      <td>1</td>\n",
              "      <td>2</td>\n",
              "      <td>1</td>\n",
              "    </tr>\n",
              "    <tr>\n",
              "      <th>2</th>\n",
              "      <td>REZA TRYADITYA</td>\n",
              "      <td>TIK</td>\n",
              "      <td>1</td>\n",
              "      <td>2</td>\n",
              "      <td>1</td>\n",
              "    </tr>\n",
              "    <tr>\n",
              "      <th>3</th>\n",
              "      <td>M.YOGA ALI AKBAR</td>\n",
              "      <td>TIK</td>\n",
              "      <td>1</td>\n",
              "      <td>2</td>\n",
              "      <td>1</td>\n",
              "    </tr>\n",
              "    <tr>\n",
              "      <th>4</th>\n",
              "      <td>ANDI SEPTIAWAN</td>\n",
              "      <td>TIK</td>\n",
              "      <td>1</td>\n",
              "      <td>2</td>\n",
              "      <td>1</td>\n",
              "    </tr>\n",
              "  </tbody>\n",
              "</table>\n",
              "</div>"
            ],
            "text/plain": [
              "               NAMA FAKULTAS  PRODI  ASAL_SEKOLAH  Nilai_UAN\n",
              "0       ADE SAPUTRA      TIK      1             4          1\n",
              "1         KAMARUDIN      TIK      1             2          1\n",
              "2    REZA TRYADITYA      TIK      1             2          1\n",
              "3  M.YOGA ALI AKBAR      TIK      1             2          1\n",
              "4    ANDI SEPTIAWAN      TIK      1             2          1"
            ]
          },
          "metadata": {},
          "execution_count": 17
        }
      ]
    },
    {
      "cell_type": "code",
      "metadata": {
        "colab": {
          "base_uri": "https://localhost:8080/"
        },
        "id": "CGUpAxaAc2iQ",
        "outputId": "eff56e3d-21c2-48c9-c0c7-fdb1a686e6b3"
      },
      "source": [
        "# Melihat Atribut\n",
        "data.info()"
      ],
      "execution_count": 18,
      "outputs": [
        {
          "output_type": "stream",
          "name": "stdout",
          "text": [
            "<class 'pandas.core.frame.DataFrame'>\n",
            "RangeIndex: 27 entries, 0 to 26\n",
            "Data columns (total 5 columns):\n",
            " #   Column        Non-Null Count  Dtype \n",
            "---  ------        --------------  ----- \n",
            " 0   NAMA          27 non-null     object\n",
            " 1   FAKULTAS      27 non-null     object\n",
            " 2   PRODI         27 non-null     int64 \n",
            " 3   ASAL_SEKOLAH  27 non-null     int64 \n",
            " 4   Nilai_UAN     27 non-null     int64 \n",
            "dtypes: int64(3), object(2)\n",
            "memory usage: 1.2+ KB\n"
          ]
        }
      ]
    },
    {
      "cell_type": "code",
      "metadata": {
        "colab": {
          "base_uri": "https://localhost:8080/",
          "height": 206
        },
        "id": "0sg0cAkdyFXp",
        "outputId": "e48f620e-2dda-44c5-e588-65649c48ea97"
      },
      "source": [
        "# Menentukan variabel yang akan dikelompokkan\n",
        "data_x = data.iloc[:, 2:5]\n",
        "data_x.head()"
      ],
      "execution_count": 56,
      "outputs": [
        {
          "output_type": "execute_result",
          "data": {
            "text/html": [
              "<div>\n",
              "<style scoped>\n",
              "    .dataframe tbody tr th:only-of-type {\n",
              "        vertical-align: middle;\n",
              "    }\n",
              "\n",
              "    .dataframe tbody tr th {\n",
              "        vertical-align: top;\n",
              "    }\n",
              "\n",
              "    .dataframe thead th {\n",
              "        text-align: right;\n",
              "    }\n",
              "</style>\n",
              "<table border=\"1\" class=\"dataframe\">\n",
              "  <thead>\n",
              "    <tr style=\"text-align: right;\">\n",
              "      <th></th>\n",
              "      <th>PRODI</th>\n",
              "      <th>ASAL_SEKOLAH</th>\n",
              "      <th>Nilai_UAN</th>\n",
              "    </tr>\n",
              "  </thead>\n",
              "  <tbody>\n",
              "    <tr>\n",
              "      <th>0</th>\n",
              "      <td>1</td>\n",
              "      <td>4</td>\n",
              "      <td>1</td>\n",
              "    </tr>\n",
              "    <tr>\n",
              "      <th>1</th>\n",
              "      <td>1</td>\n",
              "      <td>2</td>\n",
              "      <td>1</td>\n",
              "    </tr>\n",
              "    <tr>\n",
              "      <th>2</th>\n",
              "      <td>1</td>\n",
              "      <td>2</td>\n",
              "      <td>1</td>\n",
              "    </tr>\n",
              "    <tr>\n",
              "      <th>3</th>\n",
              "      <td>1</td>\n",
              "      <td>2</td>\n",
              "      <td>1</td>\n",
              "    </tr>\n",
              "    <tr>\n",
              "      <th>4</th>\n",
              "      <td>1</td>\n",
              "      <td>2</td>\n",
              "      <td>1</td>\n",
              "    </tr>\n",
              "  </tbody>\n",
              "</table>\n",
              "</div>"
            ],
            "text/plain": [
              "   PRODI  ASAL_SEKOLAH  Nilai_UAN\n",
              "0      1             4          1\n",
              "1      1             2          1\n",
              "2      1             2          1\n",
              "3      1             2          1\n",
              "4      1             2          1"
            ]
          },
          "metadata": {},
          "execution_count": 56
        }
      ]
    },
    {
      "cell_type": "code",
      "metadata": {
        "colab": {
          "base_uri": "https://localhost:8080/",
          "height": 357
        },
        "id": "hVR9WGE7dwFR",
        "outputId": "8848b536-3130-4476-d616-4fd96c0cabeb"
      },
      "source": [
        "# Visualisasi Data\n",
        "x = data.PRODI\n",
        "y = data.ASAL_SEKOLAH\n",
        "z = data.Nilai_UAN\n",
        "\n",
        "fig = plt.figure(figsize=(6, 6))\n",
        "ax = fig.add_subplot(111, projection='3d')\n",
        "ax.scatter(x, y, z, linewidths=1, alpha=.7, edgecolor='k', s = 20, c=z)\n",
        "plt.show()"
      ],
      "execution_count": 57,
      "outputs": [
        {
          "output_type": "display_data",
          "data": {
            "image/png": "[encoded data removed]",
            "text/plain": [
              "<Figure size 432x432 with 1 Axes>"
            ]
          },
          "metadata": {
            "needs_background": "light"
          }
        }
      ]
    },
    {
      "cell_type": "code",
      "metadata": {
        "colab": {
          "base_uri": "https://localhost:8080/"
        },
        "id": "b2KbUNkXyTG4",
        "outputId": "cda5867f-c552-4c65-d64c-16bc012b9426"
      },
      "source": [
        "# Mengubah data frame menjadi array\n",
        "x_array = np.array(data_x)\n",
        "print(x_array)"
      ],
      "execution_count": 58,
      "outputs": [
        {
          "output_type": "stream",
          "name": "stdout",
          "text": [
            "[[1 4 1]\n",
            " [1 2 1]\n",
            " [1 2 1]\n",
            " [1 2 1]\n",
            " [1 2 1]\n",
            " [1 1 1]\n",
            " [1 2 1]\n",
            " [2 2 1]\n",
            " [2 2 1]\n",
            " [2 1 1]\n",
            " [2 3 1]\n",
            " [2 2 1]\n",
            " [2 1 2]\n",
            " [2 4 1]\n",
            " [2 2 1]\n",
            " [2 3 2]\n",
            " [2 3 1]\n",
            " [2 2 1]\n",
            " [2 2 1]\n",
            " [2 2 1]\n",
            " [2 2 1]\n",
            " [3 3 1]\n",
            " [3 2 1]\n",
            " [3 4 2]\n",
            " [3 2 1]\n",
            " [3 3 2]\n",
            " [3 4 1]]\n"
          ]
        }
      ]
    },
    {
      "cell_type": "code",
      "metadata": {
        "colab": {
          "base_uri": "https://localhost:8080/"
        },
        "id": "sSZuVe9uyadX",
        "outputId": "32fff990-be35-4d3a-8b3c-506662fc6a5c"
      },
      "source": [
        "# Mengubah ukuran array\n",
        "scaler = MinMaxScaler()\n",
        "x_scaled = scaler.fit_transform(x_array)\n",
        "x_scaled"
      ],
      "execution_count": 59,
      "outputs": [
        {
          "output_type": "execute_result",
          "data": {
            "text/plain": [
              "array([[0.        , 1.        , 0.        ],\n",
              "       [0.        , 0.33333333, 0.        ],\n",
              "       [0.        , 0.33333333, 0.        ],\n",
              "       [0.        , 0.33333333, 0.        ],\n",
              "       [0.        , 0.33333333, 0.        ],\n",
              "       [0.        , 0.        , 0.        ],\n",
              "       [0.        , 0.33333333, 0.        ],\n",
              "       [0.5       , 0.33333333, 0.        ],\n",
              "       [0.5       , 0.33333333, 0.        ],\n",
              "       [0.5       , 0.        , 0.        ],\n",
              "       [0.5       , 0.66666667, 0.        ],\n",
              "       [0.5       , 0.33333333, 0.        ],\n",
              "       [0.5       , 0.        , 1.        ],\n",
              "       [0.5       , 1.        , 0.        ],\n",
              "       [0.5       , 0.33333333, 0.        ],\n",
              "       [0.5       , 0.66666667, 1.        ],\n",
              "       [0.5       , 0.66666667, 0.        ],\n",
              "       [0.5       , 0.33333333, 0.        ],\n",
              "       [0.5       , 0.33333333, 0.        ],\n",
              "       [0.5       , 0.33333333, 0.        ],\n",
              "       [0.5       , 0.33333333, 0.        ],\n",
              "       [1.        , 0.66666667, 0.        ],\n",
              "       [1.        , 0.33333333, 0.        ],\n",
              "       [1.        , 1.        , 1.        ],\n",
              "       [1.        , 0.33333333, 0.        ],\n",
              "       [1.        , 0.66666667, 1.        ],\n",
              "       [1.        , 1.        , 0.        ]])"
            ]
          },
          "metadata": {},
          "execution_count": 59
        }
      ]
    },
    {
      "cell_type": "code",
      "metadata": {
        "colab": {
          "base_uri": "https://localhost:8080/"
        },
        "id": "UqYoJjASyhdq",
        "outputId": "28a3fc2a-8247-4a5d-9165-dabf66d7bd8d"
      },
      "source": [
        "# Menentukan K-Means Cluster nya\n",
        "kmeans = KMeans(n_clusters = 5, random_state=123)\n",
        "kmeans.fit(x_scaled)\n",
        "# Menampilkan pusat cluter\n",
        "print(kmeans.cluster_centers_)"
      ],
      "execution_count": 62,
      "outputs": [
        {
          "output_type": "stream",
          "name": "stdout",
          "text": [
            "[[0.375      0.83333333 0.        ]\n",
            " [0.5        0.2962963  0.        ]\n",
            " [0.75       0.58333333 1.        ]\n",
            " [0.         0.27777778 0.        ]\n",
            " [1.         0.58333333 0.        ]]\n"
          ]
        }
      ]
    },
    {
      "cell_type": "code",
      "metadata": {
        "colab": {
          "base_uri": "https://localhost:8080/",
          "height": 281
        },
        "id": "DkpIZfvzyvNZ",
        "outputId": "e9539dbc-1655-4a56-a7d5-7e2a48f130e0"
      },
      "source": [
        "# Visualisasi Hasil Cluster\n",
        "data[\"kluster\"] = kmeans.labels_\n",
        "output = plt.scatter(x_scaled[:,0], x_scaled[:,1], s = 100, c = data.kluster, marker = \"o\", alpha = 1, )\n",
        "centers = kmeans.cluster_centers_\n",
        "plt.scatter(centers[:,0], centers[:,1], c='red', s=200, alpha=1 , marker=\"o\");\n",
        "plt.title(\"Hasil Klustering K-Means\")\n",
        "plt.colorbar(output)\n",
        "plt.show()"
      ],
      "execution_count": 63,
      "outputs": [
        {
          "output_type": "display_data",
          "data": {
            "image/png": "[encoded data removed]",
            "text/plain": [
              "<Figure size 432x288 with 2 Axes>"
            ]
          },
          "metadata": {
            "needs_background": "light"
          }
        }
      ]
    },
    {
      "cell_type": "markdown",
      "source": [
        "Terdapat 5 cluster dan 5 titik dari setiap pusat data cluster."
      ],
      "metadata": {
        "id": "EzvbeFPePLfZ"
      }
    }
  ]
}