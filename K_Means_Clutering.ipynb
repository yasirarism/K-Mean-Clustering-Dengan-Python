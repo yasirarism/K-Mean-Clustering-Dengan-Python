{
  "nbformat": 4,
  "nbformat_minor": 0,
  "metadata": {
    "colab": {
      "name": "K - Means Clutering.ipynb",
      "provenance": [],
      "authorship_tag": "ABX9TyMiZ7Pl0ZTQTHGU83OiSZCT",
      "include_colab_link": true
    },
    "kernelspec": {
      "name": "python3",
      "display_name": "Python 3"
    },
    "language_info": {
      "name": "python"
    }
  },
  "cells": [
    {
      "cell_type": "markdown",
      "metadata": {
        "id": "view-in-github",
        "colab_type": "text"
      },
      "source": [
        "<a href=\"https://colab.research.google.com/github/yasirarism/K-Mean-Clustering-Dengan-Python/blob/main/K_Means_Clutering.ipynb\" target=\"_parent\"><img src=\"https://colab.research.google.com/assets/colab-badge.svg\" alt=\"Open In Colab\"/></a>"
      ]
    },
    {
      "cell_type": "markdown",
      "metadata": {
        "id": "D_XPjUuMpPW-"
      },
      "source": [
        "Teknik Sipil = 1  \n",
        "Sistem Informasi = 2  \n",
        "Teknik Industri = 3  \n",
        "  \n",
        "Belum ada ijazah = 1  \n",
        "SMA = 2  \n",
        "SMK = 3  \n",
        "Selain SMK dan SMA = 4  \n",
        "  \n",
        "Nilai rata rata <= 5 = 1  \n",
        "Nilai rata rata > 5 = 2  \n",
        "Nilai rata rata >= 7 = 3  "
      ]
    },
    {
      "cell_type": "code",
      "metadata": {
        "colab": {
          "base_uri": "https://localhost:8080/",
          "height": 206
        },
        "id": "CsMxegB2KTPj",
        "outputId": "7904e264-7a0e-4ec5-991d-5563d865acae"
      },
      "source": [
        "import pandas as pd\n",
        "import numpy as np\n",
        "import matplotlib.pyplot as plt \n",
        "from sklearn.cluster import KMeans\n",
        "from sklearn.preprocessing import MinMaxScaler\n",
        "\n",
        "data = pd.read_excel(\"https://github.com/yasirarism/K-Mean-Clustering-Dengan-Python/raw/main/Sample%20Data%20Mahasiswa%20Baru%20v2.xlsx\")\n",
        "data.head()"
      ],
      "execution_count": 2,
      "outputs": [
        {
          "output_type": "execute_result",
          "data": {
            "text/html": [
              "<div>\n",
              "<style scoped>\n",
              "    .dataframe tbody tr th:only-of-type {\n",
              "        vertical-align: middle;\n",
              "    }\n",
              "\n",
              "    .dataframe tbody tr th {\n",
              "        vertical-align: top;\n",
              "    }\n",
              "\n",
              "    .dataframe thead th {\n",
              "        text-align: right;\n",
              "    }\n",
              "</style>\n",
              "<table border=\"1\" class=\"dataframe\">\n",
              "  <thead>\n",
              "    <tr style=\"text-align: right;\">\n",
              "      <th></th>\n",
              "      <th>NAMA</th>\n",
              "      <th>FAKULTAS</th>\n",
              "      <th>PRODI</th>\n",
              "      <th>ASAL_SEKOLAH</th>\n",
              "      <th>Nilai_UAN</th>\n",
              "    </tr>\n",
              "  </thead>\n",
              "  <tbody>\n",
              "    <tr>\n",
              "      <th>0</th>\n",
              "      <td>ADE SAPUTRA</td>\n",
              "      <td>TIK</td>\n",
              "      <td>1</td>\n",
              "      <td>4</td>\n",
              "      <td>1</td>\n",
              "    </tr>\n",
              "    <tr>\n",
              "      <th>1</th>\n",
              "      <td>KAMARUDIN</td>\n",
              "      <td>TIK</td>\n",
              "      <td>1</td>\n",
              "      <td>2</td>\n",
              "      <td>1</td>\n",
              "    </tr>\n",
              "    <tr>\n",
              "      <th>2</th>\n",
              "      <td>REZA TRYADITYA</td>\n",
              "      <td>TIK</td>\n",
              "      <td>1</td>\n",
              "      <td>2</td>\n",
              "      <td>1</td>\n",
              "    </tr>\n",
              "    <tr>\n",
              "      <th>3</th>\n",
              "      <td>M.YOGA ALI AKBAR</td>\n",
              "      <td>TIK</td>\n",
              "      <td>1</td>\n",
              "      <td>2</td>\n",
              "      <td>1</td>\n",
              "    </tr>\n",
              "    <tr>\n",
              "      <th>4</th>\n",
              "      <td>ANDI SEPTIAWAN</td>\n",
              "      <td>TIK</td>\n",
              "      <td>1</td>\n",
              "      <td>2</td>\n",
              "      <td>1</td>\n",
              "    </tr>\n",
              "  </tbody>\n",
              "</table>\n",
              "</div>"
            ],
            "text/plain": [
              "               NAMA FAKULTAS  PRODI  ASAL_SEKOLAH  Nilai_UAN\n",
              "0       ADE SAPUTRA      TIK      1             4          1\n",
              "1         KAMARUDIN      TIK      1             2          1\n",
              "2    REZA TRYADITYA      TIK      1             2          1\n",
              "3  M.YOGA ALI AKBAR      TIK      1             2          1\n",
              "4    ANDI SEPTIAWAN      TIK      1             2          1"
            ]
          },
          "metadata": {},
          "execution_count": 2
        }
      ]
    },
    {
      "cell_type": "code",
      "metadata": {
        "colab": {
          "base_uri": "https://localhost:8080/"
        },
        "id": "CGUpAxaAc2iQ",
        "outputId": "202527f4-dc87-4073-f905-2fdad17d85b1"
      },
      "source": [
        "data.info()"
      ],
      "execution_count": 3,
      "outputs": [
        {
          "output_type": "stream",
          "name": "stdout",
          "text": [
            "<class 'pandas.core.frame.DataFrame'>\n",
            "RangeIndex: 27 entries, 0 to 26\n",
            "Data columns (total 5 columns):\n",
            " #   Column        Non-Null Count  Dtype \n",
            "---  ------        --------------  ----- \n",
            " 0   NAMA          27 non-null     object\n",
            " 1   FAKULTAS      27 non-null     object\n",
            " 2   PRODI         27 non-null     int64 \n",
            " 3   ASAL_SEKOLAH  27 non-null     int64 \n",
            " 4   Nilai_UAN     27 non-null     int64 \n",
            "dtypes: int64(3), object(2)\n",
            "memory usage: 1.2+ KB\n"
          ]
        }
      ]
    },
    {
      "cell_type": "code",
      "metadata": {
        "colab": {
          "base_uri": "https://localhost:8080/",
          "height": 265
        },
        "id": "hVR9WGE7dwFR",
        "outputId": "6006204e-22de-4034-de95-050a09460b6f"
      },
      "source": [
        "plt.scatter(data.PRODI , data.ASAL_SEKOLAH, data.Nilai_UAN, c = \"c\", marker = \"o\", alpha = 1)\n",
        "plt.show()"
      ],
      "execution_count": 9,
      "outputs": [
        {
          "output_type": "display_data",
          "data": {
            "image/png": "[encoded data removed]",
            "text/plain": [
              "<Figure size 432x288 with 1 Axes>"
            ]
          },
          "metadata": {
            "needs_background": "light"
          }
        }
      ]
    },
    {
      "cell_type": "code",
      "metadata": {
        "colab": {
          "base_uri": "https://localhost:8080/",
          "height": 206
        },
        "id": "0sg0cAkdyFXp",
        "outputId": "a9525f2a-6d70-4b89-d08e-c300a1131d12"
      },
      "source": [
        "data_x = data.iloc[:, 0:3]\n",
        "data_x.head()"
      ],
      "execution_count": 10,
      "outputs": [
        {
          "output_type": "execute_result",
          "data": {
            "text/html": [
              "<div>\n",
              "<style scoped>\n",
              "    .dataframe tbody tr th:only-of-type {\n",
              "        vertical-align: middle;\n",
              "    }\n",
              "\n",
              "    .dataframe tbody tr th {\n",
              "        vertical-align: top;\n",
              "    }\n",
              "\n",
              "    .dataframe thead th {\n",
              "        text-align: right;\n",
              "    }\n",
              "</style>\n",
              "<table border=\"1\" class=\"dataframe\">\n",
              "  <thead>\n",
              "    <tr style=\"text-align: right;\">\n",
              "      <th></th>\n",
              "      <th>PRODI</th>\n",
              "      <th>ASAL_SEKOLAH</th>\n",
              "      <th>Nilai_UAN</th>\n",
              "    </tr>\n",
              "  </thead>\n",
              "  <tbody>\n",
              "    <tr>\n",
              "      <th>0</th>\n",
              "      <td>1</td>\n",
              "      <td>4</td>\n",
              "      <td>1</td>\n",
              "    </tr>\n",
              "    <tr>\n",
              "      <th>1</th>\n",
              "      <td>1</td>\n",
              "      <td>2</td>\n",
              "      <td>1</td>\n",
              "    </tr>\n",
              "    <tr>\n",
              "      <th>2</th>\n",
              "      <td>1</td>\n",
              "      <td>2</td>\n",
              "      <td>1</td>\n",
              "    </tr>\n",
              "    <tr>\n",
              "      <th>3</th>\n",
              "      <td>1</td>\n",
              "      <td>2</td>\n",
              "      <td>1</td>\n",
              "    </tr>\n",
              "    <tr>\n",
              "      <th>4</th>\n",
              "      <td>1</td>\n",
              "      <td>2</td>\n",
              "      <td>1</td>\n",
              "    </tr>\n",
              "  </tbody>\n",
              "</table>\n",
              "</div>"
            ],
            "text/plain": [
              "   PRODI  ASAL_SEKOLAH  Nilai_UAN\n",
              "0      1             4          1\n",
              "1      1             2          1\n",
              "2      1             2          1\n",
              "3      1             2          1\n",
              "4      1             2          1"
            ]
          },
          "metadata": {},
          "execution_count": 10
        }
      ]
    },
    {
      "cell_type": "code",
      "metadata": {
        "colab": {
          "base_uri": "https://localhost:8080/"
        },
        "id": "b2KbUNkXyTG4",
        "outputId": "eee6ef31-27e5-4a7b-9180-d9a2acfba38d"
      },
      "source": [
        "x_array = np.array(data_x)\n",
        "print(x_array)"
      ],
      "execution_count": 13,
      "outputs": [
        {
          "output_type": "stream",
          "name": "stdout",
          "text": [
            "[[1 4 1]\n",
            " [1 2 1]\n",
            " [1 2 1]\n",
            " [1 2 1]\n",
            " [1 2 1]\n",
            " [1 1 1]\n",
            " [1 2 1]\n",
            " [2 2 1]\n",
            " [2 2 1]\n",
            " [2 1 1]\n",
            " [2 3 1]\n",
            " [2 2 1]\n",
            " [2 1 2]\n",
            " [2 4 1]\n",
            " [2 2 1]\n",
            " [2 3 2]\n",
            " [2 3 1]\n",
            " [2 2 1]\n",
            " [2 2 1]\n",
            " [2 2 1]\n",
            " [2 2 1]\n",
            " [3 3 1]\n",
            " [3 2 1]\n",
            " [3 4 2]\n",
            " [3 2 1]\n",
            " [3 3 2]\n",
            " [3 4 1]]\n"
          ]
        }
      ]
    },
    {
      "cell_type": "code",
      "metadata": {
        "colab": {
          "base_uri": "https://localhost:8080/"
        },
        "id": "sSZuVe9uyadX",
        "outputId": "39335fbd-fa07-486b-b5bd-e8c06c09b07d"
      },
      "source": [
        "scaler = MinMaxScaler()\n",
        "x_scaled = scaler.fit_transform(x_array)\n",
        "x_scaled"
      ],
      "execution_count": 14,
      "outputs": [
        {
          "output_type": "execute_result",
          "data": {
            "text/plain": [
              "array([[0.        , 1.        , 0.        ],\n",
              "       [0.        , 0.33333333, 0.        ],\n",
              "       [0.        , 0.33333333, 0.        ],\n",
              "       [0.        , 0.33333333, 0.        ],\n",
              "       [0.        , 0.33333333, 0.        ],\n",
              "       [0.        , 0.        , 0.        ],\n",
              "       [0.        , 0.33333333, 0.        ],\n",
              "       [0.5       , 0.33333333, 0.        ],\n",
              "       [0.5       , 0.33333333, 0.        ],\n",
              "       [0.5       , 0.        , 0.        ],\n",
              "       [0.5       , 0.66666667, 0.        ],\n",
              "       [0.5       , 0.33333333, 0.        ],\n",
              "       [0.5       , 0.        , 1.        ],\n",
              "       [0.5       , 1.        , 0.        ],\n",
              "       [0.5       , 0.33333333, 0.        ],\n",
              "       [0.5       , 0.66666667, 1.        ],\n",
              "       [0.5       , 0.66666667, 0.        ],\n",
              "       [0.5       , 0.33333333, 0.        ],\n",
              "       [0.5       , 0.33333333, 0.        ],\n",
              "       [0.5       , 0.33333333, 0.        ],\n",
              "       [0.5       , 0.33333333, 0.        ],\n",
              "       [1.        , 0.66666667, 0.        ],\n",
              "       [1.        , 0.33333333, 0.        ],\n",
              "       [1.        , 1.        , 1.        ],\n",
              "       [1.        , 0.33333333, 0.        ],\n",
              "       [1.        , 0.66666667, 1.        ],\n",
              "       [1.        , 1.        , 0.        ]])"
            ]
          },
          "metadata": {},
          "execution_count": 14
        }
      ]
    },
    {
      "cell_type": "code",
      "metadata": {
        "colab": {
          "base_uri": "https://localhost:8080/"
        },
        "id": "UqYoJjASyhdq",
        "outputId": "6f7a760e-3b04-44bd-bacd-7a274fc6fd77"
      },
      "source": [
        "kmeans = KMeans(n_clusters = 5, random_state=123)\n",
        "kmeans.fit(x_scaled)\n",
        "print(kmeans.cluster_centers_)"
      ],
      "execution_count": 15,
      "outputs": [
        {
          "output_type": "stream",
          "name": "stdout",
          "text": [
            "[[0.375      0.83333333 0.        ]\n",
            " [0.5        0.2962963  0.        ]\n",
            " [0.75       0.58333333 1.        ]\n",
            " [0.         0.27777778 0.        ]\n",
            " [1.         0.58333333 0.        ]]\n"
          ]
        }
      ]
    },
    {
      "cell_type": "code",
      "metadata": {
        "colab": {
          "base_uri": "https://localhost:8080/",
          "height": 281
        },
        "id": "DkpIZfvzyvNZ",
        "outputId": "9906c10b-09ee-4ea5-e1e7-900e13aa7181"
      },
      "source": [
        "data[\"kluster\"] = kmeans.labels_\n",
        "output = plt.scatter(x_scaled[:,0], x_scaled[:,1], s = 100, c = data.kluster, marker = \"o\", alpha = 1, )\n",
        "centers = kmeans.cluster_centers_\n",
        "plt.scatter(centers[:,0], centers[:,1], c='red', s=200, alpha=1 , marker=\"o\");\n",
        "plt.title(\"Hasil Klustering K-Means\")\n",
        "plt.colorbar(output)\n",
        "plt.show()"
      ],
      "execution_count": 16,
      "outputs": [
        {
          "output_type": "display_data",
          "data": {
            "image/png": "[encoded data removed]",
            "text/plain": [
              "<Figure size 432x288 with 2 Axes>"
            ]
          },
          "metadata": {
            "needs_background": "light"
          }
        }
      ]
    }
  ]
}